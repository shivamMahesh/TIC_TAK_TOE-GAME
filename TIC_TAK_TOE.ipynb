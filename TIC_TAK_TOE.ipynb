{
 "cells": [
  {
   "cell_type": "code",
   "execution_count": 1,
   "metadata": {},
   "outputs": [],
   "source": [
    "from IPython.display import clear_output\n",
    "\n",
    "def display_board(board):\n",
    "    clear_output()\n",
    "    print(board[7]+\"   |   \"+board[8]+\"   |   \"+board[9])\n",
    "    print(\"------------------\")\n",
    "    print(board[4]+\"   |   \"+board[5]+\"   |   \"+board[6])\n",
    "    print(\"------------------\")\n",
    "    print(board[1]+\"   |   \"+board[2]+\"   |   \"+board[3])"
   ]
  },
  {
   "cell_type": "code",
   "execution_count": 2,
   "metadata": {},
   "outputs": [],
   "source": [
    "def player_input():\n",
    "    mark=''\n",
    "    while mark!='X' or mark!='O':\n",
    "        mark=input('ENTER YOUR MARKER AS X OR O:').upper()\n",
    "        if mark=='X':\n",
    "            return ('X','O')\n",
    "        if mark=='O':\n",
    "            return ('O','X')"
   ]
  },
  {
   "cell_type": "code",
   "execution_count": 3,
   "metadata": {},
   "outputs": [],
   "source": [
    "def place_marker(board, marker, position):\n",
    "    board[position]=marker"
   ]
  },
  {
   "cell_type": "code",
   "execution_count": 4,
   "metadata": {},
   "outputs": [],
   "source": [
    "def win_check(board, mark):\n",
    "    return  (board[1]==mark and board[2]==mark and board[3]==mark) or \\\n",
    "            (board[4]==mark and board[5]==mark and board[6]==mark) or \\\n",
    "            (board[7]==mark and board[8]==mark and board[9]==mark) or \\\n",
    "            (board[7]==mark and board[4]==mark and board[1]==mark) or \\\n",
    "            (board[8]==mark and board[5]==mark and board[2]==mark) or \\\n",
    "            (board[9]==mark and board[6]==mark and board[3]==mark) or \\\n",
    "            (board[7]==mark and board[5]==mark and board[3]==mark) or \\\n",
    "            (board[1]==mark and board[5]==mark and board[9]==mark)"
   ]
  },
  {
   "cell_type": "code",
   "execution_count": 5,
   "metadata": {},
   "outputs": [],
   "source": [
    "import random\n",
    "\n",
    "def choose_first():\n",
    "    i=random.randint(0,1)\n",
    "    if i==0:\n",
    "        return 'Player 1'\n",
    "    else:\n",
    "        return 'Player 2'"
   ]
  },
  {
   "cell_type": "code",
   "execution_count": 6,
   "metadata": {},
   "outputs": [],
   "source": [
    "def space_check(board, position):\n",
    "    return board[position]==' '"
   ]
  },
  {
   "cell_type": "code",
   "execution_count": 7,
   "metadata": {},
   "outputs": [],
   "source": [
    "def full_board_check(board):\n",
    "    for i in range(1,10):\n",
    "        if space_check(board,i):\n",
    "            return False\n",
    "    return True"
   ]
  },
  {
   "cell_type": "code",
   "execution_count": 8,
   "metadata": {},
   "outputs": [],
   "source": [
    "def player_choice(board): \n",
    "    pos=0\n",
    "    while not pos in range(1,10) or  not space_check(board,pos):\n",
    "        pos=int(input('enter position between 1-9:'))\n",
    "    return pos"
   ]
  },
  {
   "cell_type": "code",
   "execution_count": 9,
   "metadata": {},
   "outputs": [],
   "source": [
    "def replay():\n",
    "    choice= input('YOU WANT TO PLAY AGAIN Yes or no:')\n",
    "    if choice=='Yes':\n",
    "        return True\n",
    "    else:\n",
    "        return False"
   ]
  },
  {
   "cell_type": "code",
   "execution_count": 13,
   "metadata": {},
   "outputs": [
    {
     "name": "stdout",
     "output_type": "stream",
     "text": [
      "Welcome to Tic Tac Toe!\n",
      "ENTER YOUR MARKER AS X OR O:x\n",
      "Player 2 will play first\n",
      "ready to play Y OR N:n\n",
      "YOU WANT TO PLAY AGAIN Yes or no:no\n",
      "THANkS FOR PLAYING\n"
     ]
    }
   ],
   "source": [
    "print('Welcome to Tic Tac Toe!')\n",
    "while True:\n",
    "    b=[' ']*10\n",
    "    mark1,mark2=player_input()\n",
    "    turn=choose_first()\n",
    "    print(turn+\" will play first\")\n",
    "    game=input(\"ready to play Y OR N:\").upper()\n",
    "    if game=='Y':\n",
    "        game=True\n",
    "    else:\n",
    "        game=False\n",
    "    while game:\n",
    "        if turn=='Player 1':\n",
    "            display_board(b)\n",
    "            pos=player_choice(b)\n",
    "            place_marker(b,mark1,pos)\n",
    "            display_board(b)\n",
    "            if win_check(b,mark1):\n",
    "                display_board(b)\n",
    "                print(\"player 1 won\")\n",
    "                game=False\n",
    "            else:\n",
    "                if full_board_check(b):\n",
    "                    display_board(b)\n",
    "                    print('game tie')\n",
    "                    game=False\n",
    "                else:\n",
    "                    turn='Player 2'\n",
    "        else:\n",
    "            display_board(b)\n",
    "            pos=player_choice(b)\n",
    "            place_marker(b,mark2,pos)\n",
    "            display_board(b)\n",
    "            if win_check(b,mark2):\n",
    "                display_board(b)\n",
    "                print(\"player 2 won\")\n",
    "                game=False\n",
    "            else:\n",
    "                if full_board_check(b):\n",
    "                    display_board(b)\n",
    "                    print('game tie')\n",
    "                    game=False\n",
    "                else:\n",
    "                    turn='Player 1'\n",
    "\n",
    "    if not replay():\n",
    "            print('THANkS FOR PLAYING')\n",
    "            break"
   ]
  },
  {
   "cell_type": "code",
   "execution_count": null,
   "metadata": {},
   "outputs": [],
   "source": []
  }
 ],
 "metadata": {
  "kernelspec": {
   "display_name": "Python 3",
   "language": "python",
   "name": "python3"
  },
  "language_info": {
   "codemirror_mode": {
    "name": "ipython",
    "version": 3
   },
   "file_extension": ".py",
   "mimetype": "text/x-python",
   "name": "python",
   "nbconvert_exporter": "python",
   "pygments_lexer": "ipython3",
   "version": "3.6.5"
  }
 },
 "nbformat": 4,
 "nbformat_minor": 2
}
